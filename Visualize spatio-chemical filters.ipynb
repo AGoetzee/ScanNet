{
 "cells": [
  {
   "cell_type": "markdown",
   "metadata": {},
   "source": [
    "# Visualizing spatio-chemical filters with pythreejs\n",
    "## Installation:\n",
    "For running this notebook, the following additional packages are required:\n",
    "\n",
    "pythreejs (https://pythreejs.readthedocs.io/en/stable/)\n",
    "\n",
    "ipywebrtc==0.5.0\n",
    "\n",
    "ipywidgets==7.5.1  \n",
    "\n",
    "Installation with pip should work with a recent jupyter version. Reboot the jupyter notebook afterwards.\n",
    "\n",
    "\n",
    "\n",
    "## Important: Cells must be executed one at time (rather than with Cell -> Run All)\n",
    "\n"
   ]
  },
  {
   "cell_type": "markdown",
   "metadata": {},
   "source": [
    "# Calculate filter specificities (precomputed)\n",
    "The first step is to calculate the filter specificities.\n",
    "For the atomic filters, we must simply extract the neighborhood embedding layer parameters from the keras model object.\n",
    "For the amino acid filters, since the amino-acid specificity of individual gaussian components is *non-linear*, we must first determine it on a set of test proteins. This is done as follows:\n",
    "1. Calculate, for each gaussian component of each filter, the distribution of activities.\n",
    "2. Identify the top-1/5\\% activating residues.\n",
    "3. Determine their amino acid type, secondary structure and accessible surface area.\n",
    "4. Determine the mean activity across the top-activating residues.\n",
    "\n",
    "For the trained networks, the specificities are precomputed. Otherwise, calculating the amino acid filter specificities takes about 1-2 hour on a laptop\n",
    "To avoid this step and visualize only the atom filters, specify only_atom=True\n",
    "\n",
    "Then, for a given filter, display the gaussians with highest mean activity (threshold1 = 33\\% of the maximum mean activity), and show attribute specificity as inset.\n",
    "\n"
   ]
  },
  {
   "cell_type": "code",
   "execution_count": 2,
   "metadata": {},
   "outputs": [
    {
     "name": "stderr",
     "output_type": "stream",
     "text": [
      "/Users/jerometubiana/Documents/GitHub/ScanNet/utilities/dataset_utils.py:71: VisibleDeprecationWarning: Creating an ndarray from ragged nested sequences (which is a list-or-tuple of lists-or-tuples-or ndarrays with different lengths or shapes) is deprecated. If you meant to do this, you must specify 'dtype=object' when creating the ndarray\n",
      "  list_labels = np.array(list_labels)\n",
      "/Users/jerometubiana/Documents/GitHub/ScanNet/utilities/dataset_utils.py:72: VisibleDeprecationWarning: Creating an ndarray from ragged nested sequences (which is a list-or-tuple of lists-or-tuples-or ndarrays with different lengths or shapes) is deprecated. If you meant to do this, you must specify 'dtype=object' when creating the ndarray\n",
      "  list_resids = np.array(list_resids)\n"
     ]
    }
   ],
   "source": [
    "from visualizations import show_3d_filters,weight_logo_3d\n",
    "from utilities import dataset_utils\n",
    "import numpy as np\n",
    "\n",
    "mode = 'interface' # Prediction mode: 'interface' (protein-protein binding sites), 'epitope' (B-cell epitopes), 'idp' (protein - intrinsically disordered proteins binding sites)\n",
    "use_MSA = False # Whether to use evolutionary information or not.\n",
    "\n",
    "\n",
    "\n",
    "if mode == 'interface':\n",
    "    top_percent = 5\n",
    "    if use_MSA:\n",
    "        model_name = 'ScanNet_PPI'\n",
    "    else:\n",
    "        model_name = 'ScanNet_PPI_noMSA'\n",
    "    dataset_name = 'PPBS_validation'\n",
    "    list_origins = np.concatenate([dataset_utils.read_labels('datasets/PPBS/labels_%s.txt'%dataset)[0]\n",
    "     for dataset in ['validation_70','validation_homology','validation_topology','validation_none']\n",
    "        ])\n",
    "    \n",
    "elif mode == 'epitope':\n",
    "    top_percent = 5\n",
    "    if use_MSA:\n",
    "        model_name = 'ScanNet_PAI_0'\n",
    "    else:\n",
    "        model_name = 'ScanNet_PAI_noMSA_0'\n",
    "    dataset_name = 'BCE_fold1'\n",
    "    list_origins = dataset_utils.read_labels('datasets/BCE/labels_fold1.txt')[0]\n",
    "    \n",
    "elif mode == 'idp':\n",
    "    top_percent = 5\n",
    "    if use_MSA:\n",
    "        model_name = 'ScanNet_PIDPI_0'\n",
    "    else:\n",
    "        model_name = 'ScanNet_PIDPI_noMSA_0'\n",
    "    dataset_name = 'PIDPBS_fold0'\n",
    "    list_origins = None\n",
    "#     list_origins = dataset_utils.read_labels('datasets/PIDP/labels_fold0.txt')[0]\n",
    "        \n",
    "    \n",
    "\n",
    "\n",
    "filter_specificities = show_3d_filters.calculate_filter_specificities(\n",
    "    model_name,\n",
    "    dataset_name = dataset_name,\n",
    "    dataset_origins = list_origins,\n",
    "    biounit=False,\n",
    "    ncores=4,\n",
    "    only_atom=False,\n",
    "    top_percent = top_percent,\n",
    "    fresh = False,\n",
    "    Lmax = 1024\n",
    "\n",
    ")\n",
    "\n",
    "\n"
   ]
  },
  {
   "cell_type": "markdown",
   "metadata": {},
   "source": [
    "## Instantiate sphere geometry\n",
    "This cell must be executed first"
   ]
  },
  {
   "cell_type": "code",
   "execution_count": 3,
   "metadata": {},
   "outputs": [],
   "source": [
    "sg = weight_logo_3d.make_sphere_geometry(30)"
   ]
  },
  {
   "cell_type": "markdown",
   "metadata": {},
   "source": [
    "# Interactive visualization of one amino acid filter"
   ]
  },
  {
   "cell_type": "code",
   "execution_count": null,
   "metadata": {},
   "outputs": [],
   "source": [
    "renderer = show_3d_filters.plot_aminoacid_filter(filter_specificities,89,sg=sg);\n",
    "display(renderer)"
   ]
  },
  {
   "cell_type": "markdown",
   "metadata": {},
   "source": [
    "# Interactive visualization of one atomic filter"
   ]
  },
  {
   "cell_type": "code",
   "execution_count": 27,
   "metadata": {
    "scrolled": false
   },
   "outputs": [
    {
     "data": {
      "application/vnd.jupyter.widget-view+json": {
       "model_id": "3ad00c63793848b49082e416c66d948b",
       "version_major": 2,
       "version_minor": 0
      },
      "text/plain": [
       "Renderer(camera=PerspectiveCamera(position=(8.0, 5.0, 8.0), projectionMatrix=(1.0, 0.0, 0.0, 0.0, 0.0, 1.0, 0.…"
      ]
     },
     "metadata": {},
     "output_type": "display_data"
    },
    {
     "data": {
      "text/plain": [
       "<Figure size 288x576 with 0 Axes>"
      ]
     },
     "metadata": {},
     "output_type": "display_data"
    },
    {
     "data": {
      "text/plain": [
       "<Figure size 288x576 with 0 Axes>"
      ]
     },
     "metadata": {},
     "output_type": "display_data"
    },
    {
     "data": {
      "text/plain": [
       "<Figure size 288x576 with 0 Axes>"
      ]
     },
     "metadata": {},
     "output_type": "display_data"
    },
    {
     "data": {
      "text/plain": [
       "<Figure size 288x576 with 0 Axes>"
      ]
     },
     "metadata": {},
     "output_type": "display_data"
    },
    {
     "data": {
      "text/plain": [
       "<Figure size 288x576 with 0 Axes>"
      ]
     },
     "metadata": {},
     "output_type": "display_data"
    },
    {
     "data": {
      "text/plain": [
       "<Figure size 288x576 with 0 Axes>"
      ]
     },
     "metadata": {},
     "output_type": "display_data"
    },
    {
     "data": {
      "text/plain": [
       "<Figure size 288x576 with 0 Axes>"
      ]
     },
     "metadata": {},
     "output_type": "display_data"
    },
    {
     "data": {
      "text/plain": [
       "<Figure size 288x576 with 0 Axes>"
      ]
     },
     "metadata": {},
     "output_type": "display_data"
    }
   ],
   "source": [
    "renderer = show_3d_filters.plot_atomic_filter(filter_specificities,75,sg=sg,threshold1=0.33);\n",
    "display(renderer)"
   ]
  },
  {
   "cell_type": "markdown",
   "metadata": {},
   "source": [
    "# Filter visualization with custom camera position"
   ]
  },
  {
   "cell_type": "code",
   "execution_count": 28,
   "metadata": {},
   "outputs": [
    {
     "data": {
      "application/vnd.jupyter.widget-view+json": {
       "model_id": "f51c46cf0d994f4aa54e58d016fdd863",
       "version_major": 2,
       "version_minor": 0
      },
      "text/plain": [
       "Renderer(camera=PerspectiveCamera(position=(-3.0, 6.0, 10.0), projectionMatrix=(1.0, 0.0, 0.0, 0.0, 0.0, 1.0, …"
      ]
     },
     "metadata": {},
     "output_type": "display_data"
    },
    {
     "data": {
      "text/plain": [
       "<Figure size 288x576 with 0 Axes>"
      ]
     },
     "metadata": {},
     "output_type": "display_data"
    },
    {
     "data": {
      "text/plain": [
       "<Figure size 288x576 with 0 Axes>"
      ]
     },
     "metadata": {},
     "output_type": "display_data"
    },
    {
     "data": {
      "text/plain": [
       "<Figure size 288x576 with 0 Axes>"
      ]
     },
     "metadata": {},
     "output_type": "display_data"
    }
   ],
   "source": [
    "renderer = show_3d_filters.plot_atomic_filter(filter_specificities,30,sg=sg,\n",
    "                                             camera_position=[-0.3, 0.6, 1.0]);\n",
    "\n",
    "display(renderer)\n"
   ]
  },
  {
   "cell_type": "markdown",
   "metadata": {},
   "source": [
    "# Filter visualization with custom camera position, take screenshot"
   ]
  },
  {
   "cell_type": "code",
   "execution_count": 29,
   "metadata": {},
   "outputs": [
    {
     "data": {
      "application/vnd.jupyter.widget-view+json": {
       "model_id": "ddd54e9c09714406b9dd437198083b5b",
       "version_major": 2,
       "version_minor": 0
      },
      "text/plain": [
       "Renderer(camera=PerspectiveCamera(position=(-3.0, 6.0, 10.0), projectionMatrix=(1.0, 0.0, 0.0, 0.0, 0.0, 1.0, …"
      ]
     },
     "metadata": {},
     "output_type": "display_data"
    },
    {
     "data": {
      "text/plain": [
       "<Figure size 288x576 with 0 Axes>"
      ]
     },
     "metadata": {},
     "output_type": "display_data"
    },
    {
     "data": {
      "text/plain": [
       "<Figure size 288x576 with 0 Axes>"
      ]
     },
     "metadata": {},
     "output_type": "display_data"
    },
    {
     "data": {
      "text/plain": [
       "<Figure size 288x576 with 0 Axes>"
      ]
     },
     "metadata": {},
     "output_type": "display_data"
    }
   ],
   "source": [
    "renderer = show_3d_filters.plot_atomic_filter(filter_specificities,30,sg=sg,\n",
    "                                             camera_position=[-0.3, 0.6, 1.0]);\n",
    "weight_logo_3d.make_screenshot(renderer,'screenshot_filter.png')\n",
    "display(renderer)\n",
    "\n"
   ]
  }
 ],
 "metadata": {
  "kernelspec": {
   "display_name": "Python 3",
   "language": "python",
   "name": "python3"
  },
  "language_info": {
   "codemirror_mode": {
    "name": "ipython",
    "version": 3
   },
   "file_extension": ".py",
   "mimetype": "text/x-python",
   "name": "python",
   "nbconvert_exporter": "python",
   "pygments_lexer": "ipython3",
   "version": "3.6.12"
  }
 },
 "nbformat": 4,
 "nbformat_minor": 4
}
